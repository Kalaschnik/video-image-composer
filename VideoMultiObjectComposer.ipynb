{
 "cells": [
  {
   "cell_type": "markdown",
   "metadata": {},
   "source": [
    "# Insert Two Objects into a Video\n",
    "\n",
    "## Dependencies\n",
    "- Python ≥3.6 on Linux or Python ≥3.8 on Windows (which avoids WinError 6, see https://git.io/Jv8cN)\n",
    "- moviepy\n",
    "  - If you run into an error: `AttributeError: 'NoneType' object has no attribute 'stdout'` (see https://git.io/JvlyN) on moviepy version 1.0.1 try downgrading to version 1.0.0 of moviepy, explictly: `pip install moviepy==1.0.0`\n",
    "\n",
    "## Usage\n",
    "### Folder Structure\n",
    "\n",
    "The script is expecting the following folder structure:\n",
    "\n",
    "**🎥VideoFile.wmv**  \n",
    "📂Object_FolderA_a  \n",
    "├─ Object_File_1.png  \n",
    "├─ Object_File_2.png  \n",
    "📂Object_FolderA_b  \n",
    "├─ Object_File_1.png  \n",
    "├─ Object_File_2.png  \n",
    "📂Object_FolderB_a  \n",
    "├─ Object_File_1.png  \n",
    "├─ Object_File_2.png  \n",
    "📂Object_FolderB_b  \n",
    "├─ Object_File_1.png  \n",
    "├─ Object_File_2.png    \n",
    " \n",
    "### Merging Strategy\n",
    "In each iteration two objects will be placed in a fixed video file. One object will be placed on the left side and the other one one the right side. You can define the pixels later. Moreover, their positions will also be swapped.\n",
    "\n",
    "For example, in the directory structure above, `Video-File.wmv` will be combined with `Object_File_1.png` and `Object_File_2.png` from folder `Object_FolderA_a` into a single video. Thereafter, `Video-File.wmv` gets merged with `Object_File_2.png` and `Object_File_2.png` from the second folder `Object_FolderA_b`, etc. The resulting video files will be stored in an `/out2` folder. When running the script using the above directory structure, the following output will be generated (including swapped positions):\n",
    "\n",
    "📂\\[other folders from above\\]  \n",
    "📂out2  \n",
    "├─Object_FolderA_a-Object_File_1-left-Object_FolderA_b-Object_File_1-right.wmv  \n",
    "├─Object_FolderA_a-Object_File_1-right-Object_FolderA_b-Object_File_1-left.wmv  \n",
    "├─Object_FolderA_a-Object_File_2-left-Object_FolderA_b-Object_File_2-right.wmv  \n",
    "├─Object_FolderA_a-Object_File_2-right-Object_FolderA_b-Object_File_2-left.wmv  \n",
    "├─Object_FolderB_a-Object_File_1-left-Object_FolderB_b-Object_File_1-right.wmv  \n",
    "├─Object_FolderB_a-Object_File_1-right-Object_FolderB_b-Object_File_1-left.wmv  \n",
    "├─Object_FolderB_a-Object_File_2-left-Object_FolderB_b-Object_File_2-right.wmv  \n",
    "├─Object_FolderB_a-Object_File_2-right-Object_FolderB_b-Object_File_2-left.wmv  \n",
    "\n",
    "### ✏️ Edit and Adjust the Script\n",
    "Sections containing a ✏️ icon can be adjusted to meet specific requirements.\n",
    "\n"
   ]
  },
  {
   "cell_type": "markdown",
   "metadata": {},
   "source": [
    "## ▶ Generate Video Script\n",
    "After installing `moviepy` (see above), start executing the script:"
   ]
  },
  {
   "cell_type": "code",
   "execution_count": null,
   "metadata": {},
   "outputs": [],
   "source": [
    "import time\n",
    "from pathlib import Path # pathlib > os.path.join (see http://tiny.cc/d1o1jz)\n",
    "import moviepy.editor as mp"
   ]
  },
  {
   "cell_type": "markdown",
   "metadata": {},
   "source": [
    "### ✏️ Folders\n",
    "Define video and object folders."
   ]
  },
  {
   "cell_type": "code",
   "execution_count": null,
   "metadata": {},
   "outputs": [],
   "source": [
    "video_file = \"PreferentialLookingSlide.wmv\"\n",
    "object_partner_1 = [\"ObjectW_a\", \"ObjectX_a\", \"ObjectY_a\", \"ObjectZ_a\"]\n",
    "object_partner_2 = [\"ObjectW_b\", \"ObjectX_b\", \"ObjectY_b\", \"ObjectZ_b\"]"
   ]
  },
  {
   "cell_type": "markdown",
   "metadata": {},
   "source": [
    "### ✏️ Parameters\n",
    "*See `VideoObjectComposer.ipynb` for information about parameters*."
   ]
  },
  {
   "cell_type": "code",
   "execution_count": null,
   "metadata": {},
   "outputs": [],
   "source": [
    "object_left_x_pos = 400\n",
    "object_left_y_pos = \"center\"\n",
    "object_right_x_pos = 2048 - 260 - 400\n",
    "object_right_y_pos = \"center\"\n",
    "folder_file_delimter = \"_\"\n",
    "object_extension = \"png\"\n",
    "video_extension = \"wmv\" # wmv, avi\n",
    "use_codec = \"msmpeg4\" # msmpeg4 (for wmv), libxvid (xvid for avi)\n",
    "use_bitrate = None # CBR: \"10M\" # use this for constant\n",
    "use_ffmpeg_params = [\"-qscale\", \"2\"] # VBR: [\"-qscale\", \"2\"]\n",
    "use_preset = \"ultrafast\" # \"ultrafast\", default is medium\n",
    "use_sound = False\n",
    "output_folder = \"out2\""
   ]
  },
  {
   "cell_type": "markdown",
   "metadata": {},
   "source": [
    "### 📝 Generate File List & Queue\n",
    "\n"
   ]
  },
  {
   "cell_type": "code",
   "execution_count": null,
   "metadata": {},
   "outputs": [],
   "source": [
    "# Create Partner 1 File List\n",
    "object_partner_1_files = []\n",
    "for op1_item in object_partner_1:\n",
    "    couples1 = list(Path(op1_item).glob(\"**/*\"))\n",
    "    for single1 in couples1:\n",
    "        object_partner_1_files.append(str(single1))\n",
    "\n",
    "# Create Partner 2 File List\n",
    "object_partner_2_files = []\n",
    "for op2_item in object_partner_2:\n",
    "    couples2 = list(Path(op2_item).glob(\"**/*\"))\n",
    "    for single2 in couples2:\n",
    "        object_partner_2_files.append(str(single2))\n",
    "\n",
    "\n",
    "# Check if video output folder is there, if not create it\n",
    "Path(\"./\" + output_folder).mkdir(parents=True, exist_ok=True)\n"
   ]
  },
  {
   "cell_type": "markdown",
   "metadata": {},
   "source": [
    "### 🔁 Process Loop"
   ]
  },
  {
   "cell_type": "code",
   "execution_count": null,
   "metadata": {},
   "outputs": [],
   "source": [
    "# start counting\n",
    "start_time = time.time()\n",
    "\n",
    "# Video Loop\n",
    "video_counter = 0\n",
    "\n",
    "partner_length = len(object_partner_1_files)\n",
    "couples_length = partner_length * 2\n",
    "\n",
    "# Video file is fixed\n",
    "mp_obj1 = mp.VideoFileClip(video_file).set_duration(10)\n",
    "\n",
    "print(\"Start Processing Videos\")\n",
    "for i in range(partner_length):\n",
    "\n",
    "    video_counter += 1\n",
    "    print(f\"\\nVideo {video_counter} of {couples_length}...\")\n",
    "\n",
    "    # Define Object Partner 1\n",
    "    mp_obj2 = ( \n",
    "            mp.ImageClip(object_partner_1_files[i])\n",
    "            .set_duration(mp_obj1.duration)\n",
    "            .set_pos((object_left_x_pos, object_left_y_pos))\n",
    "        )\n",
    "    \n",
    "    # Define Object Partner 2\n",
    "    mp_obj3 = ( \n",
    "            mp.ImageClip(object_partner_2_files[i])\n",
    "            .set_duration(mp_obj1.duration)\n",
    "            .set_pos((object_right_x_pos, object_right_y_pos))\n",
    "        )\n",
    "\n",
    "    # Define Current Filename\n",
    "    current_filename = object_partner_1_files[i].replace(\"/\", folder_file_delimter).replace(\"\\\\\", folder_file_delimter).replace(\".\" + object_extension, folder_file_delimter) + \"LEFT_\" + object_partner_2_files[i].replace(\"/\", folder_file_delimter).replace(\"\\\\\", folder_file_delimter).replace(\".\" + object_extension, \"_RIGHT.\" + video_extension)\n",
    "    \n",
    "    # Create Composition\n",
    "    mp_composition = mp.CompositeVideoClip([mp_obj1, mp_obj2, mp_obj3])\n",
    "    mp_composition.write_videofile(\"./\" + output_folder + \"/\" + current_filename, \\\n",
    "            codec=use_codec, bitrate=use_bitrate, ffmpeg_params=use_ffmpeg_params, audio=use_sound, preset=use_preset)\n",
    "    # Closing the clip avoids Errno 12 (Cannot allocate memory)\n",
    "    mp_composition.close()\n",
    "\n",
    "    # --------------------------------------------------------\n",
    "    # SWAP PROCESS Partner Positions\n",
    "    # --------------------------------------------------------\n",
    "    video_counter += 1\n",
    "    print(f\"\\nVideo {video_counter} of {couples_length}...\")\n",
    "    \n",
    "    print('SWAP')\n",
    "    object_partner_1_files[i], object_partner_2_files[i] = object_partner_2_files[i], object_partner_1_files[i]\n",
    "    print(object_partner_1_files[i],object_partner_2_files[i])\n",
    "\n",
    "    # Define Object Partner 1\n",
    "    mp_obj2 = ( \n",
    "            mp.ImageClip(object_partner_1_files[i])\n",
    "            .set_duration(mp_obj1.duration)\n",
    "            .set_pos((object_left_x_pos, object_left_y_pos))\n",
    "        )\n",
    "    \n",
    "    # Define Object Partner 2\n",
    "    mp_obj3 = ( \n",
    "            mp.ImageClip(object_partner_2_files[i])\n",
    "            .set_duration(mp_obj1.duration)\n",
    "            .set_pos((object_right_x_pos, object_right_y_pos))\n",
    "        )\n",
    "\n",
    "    # Define Current Filename\n",
    "    current_filename = object_partner_1_files[i].replace(\"/\", folder_file_delimter).replace(\"\\\\\", folder_file_delimter).replace(\".\" + object_extension, folder_file_delimter) + \"LEFT_\" + object_partner_2_files[i].replace(\"/\", folder_file_delimter).replace(\"\\\\\", folder_file_delimter).replace(\".\" + object_extension, \"_RIGHT.\" + video_extension)\n",
    "    \n",
    "    # Create Composition\n",
    "    mp_composition = mp.CompositeVideoClip([mp_obj1, mp_obj2, mp_obj3])\n",
    "    mp_composition.write_videofile(\"./\" + output_folder + \"/\" + current_filename, \\\n",
    "            codec=use_codec, bitrate=use_bitrate, ffmpeg_params=use_ffmpeg_params, audio=use_sound, preset=use_preset)\n",
    "    # Closing the clip avoids Errno 12 (Cannot allocate memory)\n",
    "    mp_composition.close()\n",
    "\n",
    "\n",
    "\n",
    "# End of Video Loop\n",
    "print(\"💯 all done\")\n",
    "print(f\"Execution time in seconds: {time.time() - start_time:.2f}\")\n",
    "\n",
    "\n",
    "\n",
    "\n"
   ]
  },
  {
   "cell_type": "code",
   "execution_count": null,
   "metadata": {},
   "outputs": [],
   "source": []
  }
 ],
 "metadata": {
  "file_extension": ".py",
  "kernelspec": {
   "display_name": "Python 3",
   "language": "python",
   "name": "python3"
  },
  "language_info": {
   "codemirror_mode": {
    "name": "ipython",
    "version": 3
   },
   "file_extension": ".py",
   "mimetype": "text/x-python",
   "name": "python",
   "nbconvert_exporter": "python",
   "pygments_lexer": "ipython3",
   "version": "3.7.6"
  },
  "mimetype": "text/x-python",
  "name": "python",
  "npconvert_exporter": "python",
  "pygments_lexer": "ipython3",
  "version": 3
 },
 "nbformat": 4,
 "nbformat_minor": 2
}
