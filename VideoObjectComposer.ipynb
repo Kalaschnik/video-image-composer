{
 "cells": [
  {
   "cell_type": "markdown",
   "metadata": {},
   "source": [
    "# Combine Video & Object\n",
    "\n",
    "## Dependencies\n",
    "- Python ≥3.6 on Linux or Python ≥3.8 on Windows (which avoids WinError 6, see https://git.io/Jv8cN)\n",
    "- moviepy\n",
    "  - If you run into an error: `AttributeError: 'NoneType' object has no attribute 'stdout'` (see https://git.io/JvlyN) on moviepy version 1.0.1 try downgrading to version 1.0.0 of moviepy, explictly: `pip install moviepy==1.0.0`\n",
    "\n",
    "## Usage\n",
    "### Folder Structure\n",
    "\n",
    "The script is expecting the following folder structure:\n",
    " \n",
    "📂Video_Folder1  \n",
    "├─ Video_File_1.avi  \n",
    "├─ Video_File_2.avi  \n",
    "├─ Video_File_n.avi  \n",
    "📂Video_Folder2  \n",
    "├─ Video_File_1.avi  \n",
    "├─ Video_File_2.avi  \n",
    "├─ Video_File_n.avi    \n",
    "📂Object_Folder1  \n",
    "├─ Object_File_1.png  \n",
    "├─ Object_File_2.png  \n",
    "├─ Object_File_n.png  \n",
    "📂Object_Folder2  \n",
    "├─ Object_File_1.png  \n",
    "├─ Object_File_2.png  \n",
    "├─ Object_File_n.png  \n",
    " \n",
    "### Merging Strategy\n",
    "In each iteration a video file will be combined with every image file. For example, `Video-File-1.avi` will be combined with all image files within the object folders, successively. The folder and file names will be combined, too. The resulting video files will be stored in an `/out` folder. When running only the first video from folder list above, the following structure would appear:\n",
    "\n",
    "`script.ipynb`  \n",
    "📂\\[other folders from above\\]  \n",
    "📂out  \n",
    "├─Video_Folder1-Video_File_1-Object_Folder1-Object_File_1.avi  \n",
    "├─Video_Folder1-Video_File_1-Object_Folder1-Object_File_2.avi  \n",
    "├─Video_Folder1-Video_File_1-Object_Folder1-Object_File_n.avi  \n",
    "├─Video_Folder1-Video_File_1-Object_Folder2-Object_File_1.avi  \n",
    "├─Video_Folder1-Video_File_1-Object_Folder2-Object_File_2.avi  \n",
    "├─Video_Folder1-Video_File_1-Object_Folder2-Object_File_n.avi  \n",
    "\n",
    "### ✏️ Edit and Adjust the Script\n",
    "Sections containing a ✏️ icon should be adjusted to meet specific requirements."
   ]
  },
  {
   "cell_type": "markdown",
   "metadata": {},
   "source": [
    "## ▶ Generate Video Script\n",
    "After installing `moviepy` (see above), start executing the script:"
   ]
  },
  {
   "cell_type": "code",
   "execution_count": null,
   "metadata": {
    "scrolled": true
   },
   "outputs": [],
   "source": [
    "import time\n",
    "from pathlib import Path # pathlib > os.path.join (see http://tiny.cc/d1o1jz)\n",
    "import moviepy.editor as mp"
   ]
  },
  {
   "cell_type": "markdown",
   "metadata": {},
   "source": [
    "### ✏️ Folders\n",
    "Define video and object folders."
   ]
  },
  {
   "cell_type": "code",
   "execution_count": null,
   "metadata": {
    "scrolled": true
   },
   "outputs": [],
   "source": [
    "video_folders = (\"Inter_A\", \"Inter_B\")\n",
    "object_folders = (\"ObjectW_a\", \"ObjectW_b\", \"ObjectX_a\", \"ObjectX_b\", \"ObjectY_a\", \"ObjectY_b\", \"ObjectZ_a\", \"ObjectZ_b\")"
   ]
  },
  {
   "cell_type": "markdown",
   "metadata": {},
   "source": [
    "### ℹ File & Folder Information"
   ]
  },
  {
   "cell_type": "code",
   "execution_count": null,
   "metadata": {
    "scrolled": true
   },
   "outputs": [],
   "source": [
    "total_video_files = 0\n",
    "total_object_files = 0\n",
    "\n",
    "print(\"-------------------\")\n",
    "print(\"Video Files Count:\")\n",
    "for cv in video_folders:\n",
    "    total_video_files += len(list(Path(cv).glob(\"**/*\")))\n",
    "    print(f\"{cv}:\\t{len(list(Path(cv).glob('**/*')))}\")\n",
    "\n",
    "print(\"-------------------\")\n",
    "print(\"Object Files Count:\")\n",
    "for co in object_folders:\n",
    "    total_object_files += len(list(Path(co).glob(\"**/*\")))\n",
    "    print(f\"{co}:\\t{len(list(Path(co).glob('**/*')))}\")\n",
    "print(\"-------------------\")\n",
    "\n",
    "print(f\"File Info:\\nMerging all video files with all object files will result in {total_video_files * total_object_files} video files.\")"
   ]
  },
  {
   "cell_type": "markdown",
   "metadata": {},
   "source": [
    "### ✏️ Parameters\n",
    "Here you can adjust the *delitermer character* to be used for separating folder names and file names (default is `\"-\"`), the *pixel coordinates* for inserting the object, and other stuff.\n",
    "\n",
    "#### About Coordinates\n",
    "The top left pixel of the object is the coordinates origin in moviepy. For example, if the video has height of 1152px and the object has height of 260px, and you want to place the video at the bottom of the screen you can define `object_y_pos = 1152 - 260`, which would place the object at the very bottom of the screen. To add more padding between the object and the bottom screen subtract more pixels as the third term (e.g. `object_y_pos = 1152 - 260 - 65`). Note, you can either use integers or predefined strings. See the doc for further information:\n",
    "https://zulko.github.io/moviepy/getting_started/compositing.html#positioning-clips\n",
    "\n",
    "#### About Video Codec\n",
    "Codec to use for image encoding. Can be any codec supported by ffmpeg. If the filename is has extension ‘.mp4’, ‘.ogv’, ‘.webm’, the codec will be set accordingly, but you can still set it if you don’t like the default. For other extensions, the output filename must be set accordingly.\n",
    "https://zulko.github.io/moviepy/ref/VideoClip/VideoClip.html#moviepy.video.VideoClip.VideoClip.write_videofile\n",
    "\n",
    "#### About Bitrate (CBR) and ffmpeg_params (VBR)\n",
    "You can either use the moviepy’s `bitrate` property or you can use `ffmpeg_params` (using qscale) to control the quality of the video. More information about CBR/VBR:\n",
    "https://trac.ffmpeg.org/wiki/Encode/MPEG-4\n",
    "\n",
    "#### Parameter Description\n",
    "\n",
    "\n",
    "| Parameter                | Description|\n",
    "|:-------------------------|:-----------|\n",
    "| `object_x_pos`           | X Position |\n",
    "| `object_y_pos`           | Y Position |\n",
    "| `folder_file_delimiter`  | The character that should be used within the final filename to denote a file’s parent folder. For example, `Folder1/File1.avi` gets `Folder1-File1.avi` |\n",
    "| `object_extension`       | Set your object file extension here. This is used safely strip away the file extension when merging folder and file names. |\n",
    "| `video_extension`        | Set your desired output extension here. |\n",
    "| `use_codec`              | See description above|\n",
    "| `use_bitrate`            | CBR bitrate. Expecting a string (\"10M\")|\n",
    "| `use_ffmpeg_params`      | ffmpeg parameters. Expecting key-value-pairs (e.g., ffmpeg `-qscale:v 2` gets: `[\"-qscale:v\", \"2\"]`)|\n",
    "| `use_preset`             | Sets the time that FFMPEG will spend optimizing the compression (only affects mp4/H.264). Choices are: `ultrafast, superfast, veryfast, faster, fast, medium (default), slow, slower, veryslow`. Note that this does not impact the quality of the video, only the size of the video file. So choose ultrafast when you are in a hurry and file size does not matter.|\n",
    "| `use_sound`              | Toggles to render video with sound (True/False)|\n",
    "| `output_folder`          | Name of the folder in which all videos files should be exported|\n",
    "| `write_filelist`         | Toggle if the script should write a filelist.txt, which updates after each render iteration. That means, after the render process is completed, the filelist.txt reflects the videos that were rendered in the out folder.|\n",
    "| `use_composition_queue`  | If set to `True`, the script will only generate the video/object combinations listed in the queue.txt. That means, you can create an explicit paring line-by-line. If set to `False`, all video/object combinations from within the folders will be generated.|"
   ]
  },
  {
   "cell_type": "code",
   "execution_count": null,
   "metadata": {
    "scrolled": true
   },
   "outputs": [],
   "source": [
    "object_x_pos = \"center\"\n",
    "object_y_pos = 1152 - 260 - 65\n",
    "folder_file_delimter = \"_\"\n",
    "object_extension = \"png\"\n",
    "video_extension = \"wmv\" # wmv, avi\n",
    "use_codec = \"msmpeg4\" # msmpeg4 (for wmv), libxvid (xvid for avi)\n",
    "use_bitrate = None # CBR: \"10M\" # use this for constant\n",
    "use_ffmpeg_params = [\"-qscale\", \"2\"] # VBR: [\"-qscale\", \"2\"]\n",
    "use_preset = \"ultrafast\" # \"ultrafast\", default is medium\n",
    "use_sound = False\n",
    "output_folder = \"out\"\n",
    "write_filelist = True\n",
    "use_composition_queue = False"
   ]
  },
  {
   "cell_type": "markdown",
   "metadata": {},
   "source": [
    "### 📝 Generate File List & Queue\n",
    "\n"
   ]
  },
  {
   "cell_type": "code",
   "execution_count": null,
   "metadata": {
    "scrolled": true
   },
   "outputs": [],
   "source": [
    "# Check if a queue file is actually there, if not make sure use_composition_queue is False\n",
    "if not Path(\"queue.txt\").is_file():\n",
    "    use_composition_queue = False\n",
    "\n",
    "# Use Composition Queue List if True\n",
    "if use_composition_queue:\n",
    "    with open(\"queue.txt\") as inp:\n",
    "          video_object_couples = list(zip(*(line.strip().split('\\t') for line in inp)))\n",
    "\n",
    "    video_file_list = video_object_couples[0]\n",
    "    object_file_list = video_object_couples[1]\n",
    "\n",
    "else: # Else create a video and object file list containing all videos and objects combinations\n",
    "    video_file_list = []\n",
    "    object_file_list = []\n",
    "    # (1) video file list\n",
    "    for current_video_folder in video_folders:\n",
    "        current_video_files = list(Path(current_video_folder).glob(\"**/*\"))\n",
    "        for current_video_file in current_video_files:\n",
    "            video_file_list.append(str(current_video_file))\n",
    "\n",
    "    # (2) object file list\n",
    "    for current_object_folder in object_folders:\n",
    "        current_object_files = list(Path(current_object_folder).glob(\"**/*\"))\n",
    "        for current_object_file in current_object_files:\n",
    "            object_file_list.append(str(current_object_file))\n",
    "\n",
    "\n",
    "# Delete Composition Queue List, only if use_composition_queue is False\n",
    "if not use_composition_queue:\n",
    "    queue = open(\"queue.txt\", \"w\")\n",
    "    queue.close()\n",
    "\n",
    "    # Generate a full composition queue list, only if use_composition_queue is False\n",
    "    for current_vid in video_file_list:\n",
    "        for current_obj in object_file_list:\n",
    "            # write composition queue\n",
    "            with open(\"queue.txt\", \"a\") as queue:\n",
    "                queue.write(current_vid + \"\\t\" + current_obj + \"\\n\")\n",
    "\n",
    "# Check if video output folder is there, if not create it\n",
    "Path(\"./\" + output_folder).mkdir(parents=True, exist_ok=True)"
   ]
  },
  {
   "cell_type": "markdown",
   "metadata": {},
   "source": [
    "### 🔁 Process Loop"
   ]
  },
  {
   "cell_type": "code",
   "execution_count": null,
   "metadata": {
    "scrolled": true
   },
   "outputs": [],
   "source": [
    "# start counting\n",
    "start_time = time.time()\n",
    "\n",
    "# Clean filelist if flag is set\n",
    "if write_filelist:\n",
    "    filelist = open(\"filelist.txt\", \"w\")\n",
    "    filelist.close()\n",
    "\n",
    "\n",
    "# line-by-line paring (if use_composition_queue is True)\n",
    "if use_composition_queue:\n",
    "    video_counter = 0\n",
    "    print(\"Start Processing Videos\")\n",
    "    for i in range(len(video_file_list)):\n",
    "\n",
    "        video_counter += 1\n",
    "\n",
    "        print(f\"\\nVideo {video_counter} of {len(video_file_list)}...\")\n",
    "        # compose current file name\n",
    "        current_file_name = video_file_list[i]\\\n",
    "                            .replace(\"/\", folder_file_delimter)\\\n",
    "                            .replace(\"\\\\\", folder_file_delimter)\\\n",
    "                            .replace(\".\" + video_extension, folder_file_delimter) +\\\n",
    "                            object_file_list[i]\\\n",
    "                            .replace(\"/\", folder_file_delimter)\\\n",
    "                            .replace(\"\\\\\", folder_file_delimter)\\\n",
    "                            .replace(\".\" + object_extension, \".\" + video_extension)\n",
    "\n",
    "        # write filelist if enabled\n",
    "        if write_filelist:\n",
    "            with open(\"filelist.txt\", \"a\") as filelist:\n",
    "                filelist.write(current_file_name + \"\\n\")\n",
    "        \n",
    "        # Process Videos\n",
    "        mp_obj1 = mp.VideoFileClip(video_file_list[i]).set_duration(11)\n",
    "        mp_obj2 = ( \n",
    "            mp.ImageClip(object_file_list[i])\n",
    "            .set_duration(mp_obj1.duration)\n",
    "            .set_pos((object_x_pos, object_y_pos))\n",
    "        )\n",
    "\n",
    "        mp_composition = mp.CompositeVideoClip([mp_obj1, mp_obj2])\n",
    "        mp_composition.write_videofile(\"./\" + output_folder + \"/\" + current_file_name, \\\n",
    "            codec=use_codec, bitrate=use_bitrate, ffmpeg_params=use_ffmpeg_params, audio=use_sound, preset=use_preset)\n",
    "        # Closing the clip avoids Errno 12 (Cannot allocate memory)\n",
    "        mp_composition.close()\n",
    "# End of Line-by-Line Loop\n",
    "\n",
    "\n",
    "\n",
    "# Video Loop for all combinations (use_composition_queue is False)\n",
    "if not use_composition_queue:\n",
    "    video_counter = 0\n",
    "    print(\"Start Processing Videos\")\n",
    "    for current_vid in video_file_list:\n",
    "        for current_obj in object_file_list: # for i,current_obj in enumerate(object_file_list):\n",
    "\n",
    "            video_counter += 1\n",
    "\n",
    "            print(f\"\\nVideo {video_counter} of {len(video_file_list) * len(object_file_list)}...\")\n",
    "            # compose current file name\n",
    "            current_file_name = current_vid\\\n",
    "                                .replace(\"/\", folder_file_delimter)\\\n",
    "                                .replace(\"\\\\\", folder_file_delimter)\\\n",
    "                                .replace(\".\" + video_extension, folder_file_delimter) +\\\n",
    "                                current_obj\\\n",
    "                                .replace(\"/\", folder_file_delimter)\\\n",
    "                                .replace(\"\\\\\", folder_file_delimter)\\\n",
    "                                .replace(\".\" + object_extension, \".\" + video_extension)\n",
    "\n",
    "            # write filelist if enabled\n",
    "            if write_filelist:\n",
    "                with open(\"filelist.txt\", \"a\") as filelist:\n",
    "                    filelist.write(current_file_name + \"\\n\")\n",
    "            \n",
    "            # Process Videos\n",
    "            mp_obj1 = mp.VideoFileClip(current_vid).set_duration(11)\n",
    "            mp_obj2 = ( \n",
    "                mp.ImageClip(current_obj)\n",
    "                .set_duration(mp_obj1.duration)\n",
    "                .set_pos((object_x_pos, object_y_pos))\n",
    "            )\n",
    "\n",
    "            mp_composition = mp.CompositeVideoClip([mp_obj1, mp_obj2])\n",
    "            mp_composition.write_videofile(\"./\" + output_folder + \"/\" + current_file_name, \\\n",
    "            codec=use_codec, bitrate=use_bitrate, ffmpeg_params=use_ffmpeg_params, audio=use_sound, preset=use_preset)\n",
    "            # Closing the clip avoids Errno 12 (Cannot allocate memory)\n",
    "            mp_composition.close()\n",
    "# End of Video Loop\n",
    "\n",
    "\n",
    "print(\"💯 all done\")\n",
    "print(f\"Execution time in seconds: {time.time() - start_time:.2f}\")\n"
   ]
  },
  {
   "cell_type": "markdown",
   "metadata": {},
   "source": [
    "## ▶ Re-Order Video Files Script\n",
    "### TODO"
   ]
  }
 ],
 "metadata": {
  "file_extension": ".py",
  "kernelspec": {
   "display_name": "Python 3",
   "language": "python",
   "name": "python3"
  },
  "language_info": {
   "codemirror_mode": {
    "name": "ipython",
    "version": 3
   },
   "file_extension": ".py",
   "mimetype": "text/x-python",
   "name": "python",
   "nbconvert_exporter": "python",
   "pygments_lexer": "ipython3",
   "version": "3.7.6"
  },
  "mimetype": "text/x-python",
  "name": "python",
  "npconvert_exporter": "python",
  "pygments_lexer": "ipython3",
  "version": 3
 },
 "nbformat": 4,
 "nbformat_minor": 2
}
